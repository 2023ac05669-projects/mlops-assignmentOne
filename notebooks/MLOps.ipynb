{
 "cells": [
  {
   "cell_type": "code",
   "execution_count": 2,
   "id": "3a09c344-fc02-40c2-b897-13adc46ff9e2",
   "metadata": {},
   "outputs": [
    {
     "name": "stdout",
     "output_type": "stream",
     "text": [
      "Requirement already satisfied: scikit-learn in c:\\users\\kushl\\anaconda3\\lib\\site-packages (1.2.2)\n",
      "Requirement already satisfied: pandas in c:\\users\\kushl\\anaconda3\\lib\\site-packages (1.5.3)\n",
      "Requirement already satisfied: joblib in c:\\users\\kushl\\anaconda3\\lib\\site-packages (1.2.0)\n",
      "Requirement already satisfied: numpy>=1.17.3 in c:\\users\\kushl\\anaconda3\\lib\\site-packages (from scikit-learn) (1.26.4)\n",
      "Requirement already satisfied: scipy>=1.3.2 in c:\\users\\kushl\\anaconda3\\lib\\site-packages (from scikit-learn) (1.10.1)\n",
      "Requirement already satisfied: threadpoolctl>=2.0.0 in c:\\users\\kushl\\anaconda3\\lib\\site-packages (from scikit-learn) (2.2.0)\n",
      "Requirement already satisfied: python-dateutil>=2.8.1 in c:\\users\\kushl\\anaconda3\\lib\\site-packages (from pandas) (2.8.2)\n",
      "Requirement already satisfied: pytz>=2020.1 in c:\\users\\kushl\\anaconda3\\lib\\site-packages (from pandas) (2023.3.post1)\n",
      "Requirement already satisfied: six>=1.5 in c:\\users\\kushl\\anaconda3\\lib\\site-packages (from python-dateutil>=2.8.1->pandas) (1.16.0)\n",
      "Note: you may need to restart the kernel to use updated packages.\n"
     ]
    },
    {
     "name": "stderr",
     "output_type": "stream",
     "text": [
      "\n",
      "[notice] A new release of pip is available: 25.1.1 -> 25.2\n",
      "[notice] To update, run: python.exe -m pip install --upgrade pip\n"
     ]
    }
   ],
   "source": [
    "pip install scikit-learn pandas joblib\n"
   ]
  },
  {
   "cell_type": "code",
   "execution_count": 6,
   "id": "0838509e-6333-4588-ad9e-ee8dc7cc4739",
   "metadata": {},
   "outputs": [
    {
     "name": "stdout",
     "output_type": "stream",
     "text": [
      "🔹 Linear Regression:\n",
      "RMSE: 0.7456\n",
      "R² Score: 0.5758\n",
      "\n",
      "🔹 Decision Tree Regressor:\n",
      "RMSE: 0.6446\n",
      "R² Score: 0.6829\n"
     ]
    },
    {
     "data": {
      "text/plain": [
       "['C:\\\\Users\\\\kushl\\\\Documents\\\\MLOpsAssignment\\\\mlops-assignmentOne\\\\models\\\\decision_tree_model.pkl']"
      ]
     },
     "execution_count": 6,
     "metadata": {},
     "output_type": "execute_result"
    }
   ],
   "source": [
    "import pandas as pd\n",
    "from sklearn.datasets import fetch_california_housing\n",
    "from sklearn.model_selection import train_test_split\n",
    "from sklearn.linear_model import LinearRegression\n",
    "from sklearn.tree import DecisionTreeRegressor\n",
    "from sklearn.metrics import mean_squared_error, r2_score\n",
    "import joblib\n",
    "import os\n",
    "\n",
    "# Load dataset\n",
    "housing = fetch_california_housing(as_frame=True)\n",
    "df = housing.frame\n",
    "\n",
    "# Feature matrix and target\n",
    "X = df.drop(\"MedHouseVal\", axis=1)\n",
    "y = df[\"MedHouseVal\"]\n",
    "\n",
    "# Train-test split\n",
    "X_train, X_test, y_train, y_test = train_test_split(X, y, test_size=0.2, random_state=42)\n",
    "\n",
    "# ------------------------\n",
    "# Model 1: Linear Regression\n",
    "# ------------------------\n",
    "lr_model = LinearRegression()\n",
    "lr_model.fit(X_train, y_train)\n",
    "lr_preds = lr_model.predict(X_test)\n",
    "\n",
    "lr_rmse = mean_squared_error(y_test, lr_preds, squared=False)\n",
    "lr_r2 = r2_score(y_test, lr_preds)\n",
    "\n",
    "print(\"🔹 Linear Regression:\")\n",
    "print(f\"RMSE: {lr_rmse:.4f}\")\n",
    "print(f\"R² Score: {lr_r2:.4f}\")\n",
    "\n",
    "#create directory\n",
    "#os.makedirs('models', exist_ok=True)\n",
    "\n",
    "# Save model\n",
    "joblib.dump(lr_model, \"C:\\\\Users\\\\kushl\\\\Documents\\\\MLOpsAssignment\\\\mlops-assignmentOne\\\\models\\\\linear_regression.pkl\")\n",
    "\n",
    "# ------------------------\n",
    "# Model 2: Decision Tree Regressor\n",
    "# ------------------------\n",
    "dt_model = DecisionTreeRegressor(random_state=42, max_depth=10)\n",
    "dt_model.fit(X_train, y_train)\n",
    "dt_preds = dt_model.predict(X_test)\n",
    "\n",
    "dt_rmse = mean_squared_error(y_test, dt_preds, squared=False)\n",
    "dt_r2 = r2_score(y_test, dt_preds)\n",
    "\n",
    "print(\"\\n🔹 Decision Tree Regressor:\")\n",
    "print(f\"RMSE: {dt_rmse:.4f}\")\n",
    "print(f\"R² Score: {dt_r2:.4f}\")\n",
    "\n",
    "# Save model\n",
    "joblib.dump(dt_model, \"C:\\\\Users\\\\kushl\\\\Documents\\\\MLOpsAssignment\\\\mlops-assignmentOne\\\\models\\\\decision_tree_model.pkl\")\n"
   ]
  },
  {
   "cell_type": "code",
   "execution_count": null,
   "id": "cde431d3-2842-49b0-9399-c18e5ad555b5",
   "metadata": {},
   "outputs": [],
   "source": []
  },
  {
   "cell_type": "code",
   "execution_count": null,
   "id": "9454cd49-16f6-49ac-aa88-922f86198e1a",
   "metadata": {},
   "outputs": [],
   "source": []
  }
 ],
 "metadata": {
  "kernelspec": {
   "display_name": "Python 3 (ipykernel)",
   "language": "python",
   "name": "python3"
  },
  "language_info": {
   "codemirror_mode": {
    "name": "ipython",
    "version": 3
   },
   "file_extension": ".py",
   "mimetype": "text/x-python",
   "name": "python",
   "nbconvert_exporter": "python",
   "pygments_lexer": "ipython3",
   "version": "3.11.7"
  }
 },
 "nbformat": 4,
 "nbformat_minor": 5
}
